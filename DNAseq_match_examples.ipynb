{
 "cells": [
  {
   "cell_type": "code",
   "execution_count": 38,
   "metadata": {},
   "outputs": [
    {
     "name": "stdout",
     "output_type": "stream",
     "text": [
      "['MT919770.1.fasta', 'MT919776.1.fasta', 'MT919777.1.fasta', 'MT919778.1.fasta', 'MT919779.1.fasta']\n",
      ">ENA|MT919770|MT919770.1\n",
      "NO MATCH :( \n",
      "\n",
      "\n",
      ">ENA|MT919776|MT919776.1\n",
      "NO MATCH :( \n",
      "\n",
      "\n",
      ">ENA|MT919777|MT919777.1\n",
      "NO MATCH :( \n",
      "\n",
      "\n",
      ">ENA|MT919778|MT919778.1\n",
      "POSITIVE MATCH!!!\n",
      "\n",
      "\n",
      ">ENA|MT919778|MT919778.1\n",
      "POSITIVE MATCH!!!\n",
      "\n",
      "\n"
     ]
    }
   ],
   "source": [
    "\"\"\" \n",
    "This script was writen for the course IBB2021 \n",
    "Detecting a sequence patterns on multiple fasta files  \n",
    "Developed by Ricardo J. Pais  ( rjpais@bioenhancersystem)  \n",
    "\"\"\"\n",
    "\n",
    "import os\n",
    "\n",
    "#defining the path of the files\n",
    "path = \"C:/Users/ricardo.pais/Documents/drive-download-20210430T134305Z-001\"\n",
    "\n",
    "# get the fasta files names  \n",
    "FILES = os.listdir(path)\n",
    "print (FILES)\n",
    "\n",
    "# define the contaminant pattern \n",
    "SeqX = \"ACCCCTTTAAAGGGATAT\"\n",
    "\n",
    "#  parse each file\n",
    "for filename in FILES:\n",
    "    f = open(path+ \"/\" + filename )  #  open the fasta files\n",
    "    A = \"no hit\"\n",
    "    Seq  = \"\"\n",
    "    for line in f:  # go line by line (sequence) in each file\n",
    "        if line[0] == \">\":  # select only the header string\n",
    "            print(line.split(\" \")[0])        \n",
    "        if line[0] != \">\": # generate the sequence to match  \n",
    "            Seq = Seq + line.split(\"\\n\")[0]\n",
    "    if Seq.find(SeqX) > -1 :  #  find the pattern in the sequence \n",
    "        A = \"hit\"\n",
    "        print(\"POSITIVE MATCH!!!\")\n",
    "    f.close()\n",
    "    if A !=\"hit\":\n",
    "        print(\"NO MATCH :( \")\n",
    "    print(\"\\n\") \n",
    "    "
   ]
  },
  {
   "cell_type": "code",
   "execution_count": 31,
   "metadata": {},
   "outputs": [
    {
     "name": "stdout",
     "output_type": "stream",
     "text": [
      "['MT919770.1.fasta', 'MT919776.1.fasta', 'MT919777.1.fasta', 'MT919778.1.fasta', 'MT919779.1.fasta']\n",
      ">ENA|MT919770|MT919770.1\n",
      "NO MATCH :( \n",
      "\n",
      "\n",
      ">ENA|MT919776|MT919776.1\n",
      "NO MATCH :( \n",
      "\n",
      "\n",
      ">ENA|MT919777|MT919777.1\n",
      "NO MATCH :( \n",
      "\n",
      "\n",
      ">ENA|MT919778|MT919778.1\n",
      "POSITIVE MATCH!!!\n",
      "\n",
      "\n",
      ">ENA|MT919778|MT919778.1\n",
      "POSITIVE MATCH!!!\n",
      "\n",
      "\n"
     ]
    }
   ],
   "source": [
    "# Detecting a variant on a set of sequences \n",
    "\n",
    "import os\n",
    "\n",
    "path = \"C:/Users/ricardo.pais/Documents/drive-download-20210430T134305Z-001\"\n",
    "\n",
    "# 1 get the fasta files names  \n",
    "\n",
    "FILES = os.listdir(path)\n",
    "print (FILES)\n",
    "\n",
    "# 2 open the fasta files\n",
    "\n",
    "SeqX = \"ACCCCTTTAAAGGGATAT\"\n",
    "\n",
    "for filename in FILES:\n",
    "    f = open(path+ \"/\" + filename )\n",
    "    A = \"no hit\"\n",
    "    for line in f:\n",
    "        if line[0] == \">\":\n",
    "            print(line.split(\" \")[0])\n",
    "        if line[0] != \">\":\n",
    "            if line.find(SeqX) > -1 :\n",
    "                A = \"hit\"\n",
    "                print(\"POSITIVE MATCH!!!\")\n",
    "    f.close()\n",
    "    if A !=\"hit\":\n",
    "        print(\"NO MATCH :( \")\n",
    "    print(\"\\n\") \n"
   ]
  }
 ],
 "metadata": {
  "kernelspec": {
   "display_name": "Python 3",
   "language": "python",
   "name": "python3"
  },
  "language_info": {
   "codemirror_mode": {
    "name": "ipython",
    "version": 3
   },
   "file_extension": ".py",
   "mimetype": "text/x-python",
   "name": "python",
   "nbconvert_exporter": "python",
   "pygments_lexer": "ipython3",
   "version": "3.7.4"
  }
 },
 "nbformat": 4,
 "nbformat_minor": 2
}
